{
 "cells": [
  {
   "cell_type": "code",
   "execution_count": null,
   "id": "69040cfc",
   "metadata": {},
   "outputs": [],
   "source": [
    "## download monthly WOA18 0.25 deg salinity files\n",
    "\n",
    "#! PYTHONPATH=../../pycommon ./get_monthly_woa18.py woa_test \\\n",
    "#--start_month 1 --end_month 12 \\\n",
    "#--res 0.25 \\\n",
    "#--dvar salinity "
   ]
  },
  {
   "cell_type": "code",
   "execution_count": null,
   "id": "129d1bf8",
   "metadata": {
    "scrolled": true
   },
   "outputs": [],
   "source": [
    "# generate interpolating weights from latlon grids of WOA18 to MOM6 tripolar grids\n",
    "\n",
    "#! pwd\n",
    "#! ./gen_regridder_woa18_to_mom.py wts.nc \\\n",
    "#--target_grid_path ../../test_data/flood_salt_restore_PHC2.1440x1080.v20180405.nc \\\n",
    "#--source_grid_path ../../test_data/woa18_decav_s01_04.nc"
   ]
  },
  {
   "cell_type": "code",
   "execution_count": null,
   "id": "9bf53486",
   "metadata": {
    "scrolled": true
   },
   "outputs": [],
   "source": [
    "# create 12-month WOA18 latlon SSS by aggregating monthly SSS.\n",
    "# it will generate two files, one file with land unfilled, and the other with land filled.\n",
    "\n",
    "! PYTHONPATH=../../pycommon ./fill_sss_woa18_12months.py ../../test_data/woa18 \\\n",
    "--start_month 1 --end_month 12"
   ]
  },
  {
   "cell_type": "code",
   "execution_count": null,
   "id": "37f30bf9",
   "metadata": {},
   "outputs": [],
   "source": [
    "# Intepolate latlon 12-month SSS to tripolar grids\n",
    "\n",
    "! ./remap_sss_latlon2tripolar_woa18.py template.1440x1080.woa18.nc \\\n",
    "        --regridder_file_path wts.nc \\\n",
    "        --wet_grid_path ../../test_data/ocean_topog.nc \\\n",
    "        --target_grid_path ../../test_data/flood_salt_restore_PHC2.1440x1080.v20180405.nc \\\n",
    "        --source_grid_path ../../test_data/woa18_decav_s01_04.nc \\\n",
    "        --sss_filled_path filled_sss_s01_e12.nc"
   ]
  },
  {
   "cell_type": "code",
   "execution_count": null,
   "id": "655165ee",
   "metadata": {},
   "outputs": [],
   "source": []
  },
  {
   "cell_type": "code",
   "execution_count": null,
   "id": "f571721a",
   "metadata": {},
   "outputs": [],
   "source": [
    "# Two Checks: \n",
    "\n",
    "%matplotlib inline\n",
    "\n",
    "import numpy as np\n",
    "from netCDF4 import Dataset\n",
    "\n",
    "import matplotlib.pyplot as plt\n",
    "import cartopy.crs as ccrs\n",
    "import cartopy.feature as cfeature\n",
    "from cartopy.util import add_cyclic_point\n",
    "import sys\n",
    "sys.path.append(\"../../pycommon\")\n",
    "from pps_tools import set_cartopy_gridlines, set_cartopy_colorbar\n",
    "\n",
    "\n",
    "# unfilled one\n",
    "f = Dataset('unfilled_sss_s01_e12.nc')\n",
    "sss_unfilled = f.variables['SALT'][:]\n",
    "lat1d = f.variables['lat'][:]\n",
    "lon1d = f.variables['lon'][:]\n",
    "f.close()\n",
    "\n",
    "# filled one\n",
    "f = Dataset('filled_sss_s01_e12.nc')\n",
    "sss_filled = f.variables['SALT'][:]\n",
    "lat1d = f.variables['lat'][:]\n",
    "lon1d = f.variables['lon'][:]\n",
    "f.close()"
   ]
  },
  {
   "cell_type": "code",
   "execution_count": null,
   "id": "a587c6ea",
   "metadata": {
    "scrolled": true
   },
   "outputs": [],
   "source": [
    "# Check: 12-month SSS with its land value missing\n",
    "\n",
    "fig, axs = plt.subplots(nrows=1,ncols=2,\n",
    "                        subplot_kw={'projection': ccrs.Robinson()},\n",
    "                        figsize=(11,8.5))\n",
    "crs = ccrs.PlateCarree()\n",
    "\n",
    "for i in range(2):\n",
    "    axs[i].coastlines(linewidth=0.75, color='black', resolution='50m')\n",
    "    axs[i].gridlines(crs=crs, linestyle='-')\n",
    "    #axs[i].set_extent([-150, -30, 0, 30], crs=crs)\n",
    "    if i==0:\n",
    "        month = 6\n",
    "    elif i==1:\n",
    "        month = 7\n",
    "    #surf = axs[i].contourf(lon1d, lat1d, sss_unfilled[month-1,:,:], levels=np.arange(32,38.5,0.5), extend=\"both\", cmap=plt.cm.jet, transform=crs)\n",
    "    surf = axs[i].pcolormesh(lon1d, lat1d, sss_unfilled.data[month-1,:,:], vmin=32, vmax=38.5, edgecolors=None, cmap=plt.cm.jet, transform=crs)\n",
    "\n",
    "    set_cartopy_colorbar(axs[i],surf,fig,shrink=0.3)\n",
    "\n",
    "    axs[i].add_feature(cfeature.COASTLINE)\n",
    "    axs[i].add_feature(cfeature.LAND, facecolor=[0.7,0.7,0.7])\n",
    "    set_cartopy_gridlines(ax=axs[i],crs=crs,ytick=np.arange(-90,90+10,30))\n",
    "    axs[i].title.set_text(\"WOA18 SSS on lat-lon in NH in Month {}\".format(month))\n"
   ]
  },
  {
   "cell_type": "code",
   "execution_count": null,
   "id": "bdb684fa",
   "metadata": {},
   "outputs": [],
   "source": [
    "# Check: 12-month SSS with its land value filled\n",
    "\n",
    "\n",
    "fig, axs = plt.subplots(nrows=1,ncols=2,\n",
    "                        subplot_kw={'projection': ccrs.Robinson()},\n",
    "                        figsize=(11,8.5))\n",
    "crs = ccrs.PlateCarree()\n",
    "\n",
    "for i in range(2):\n",
    "    axs[i].coastlines(linewidth=0.75, color='black', resolution='50m')\n",
    "    axs[i].gridlines(crs=crs, linestyle='-')\n",
    "    #axs[i].set_extent([-150, -30, 0, 30], crs=crs)\n",
    "    if i==0:\n",
    "        month = 6\n",
    "    elif i==1:\n",
    "        month = 7\n",
    "    #surf = axs[i].contourf(lon1d, lat1d, sss_unfilled[month-1,:,:], levels=np.arange(32,38.5,0.5), extend=\"both\", cmap=plt.cm.jet, transform=crs)\n",
    "    surf = axs[i].pcolormesh(lon1d, lat1d, sss_filled.data[month-1,:,:], vmin=32, vmax=38.5, edgecolors=None, cmap=plt.cm.jet, transform=crs)\n",
    "\n",
    "    set_cartopy_colorbar(axs[i],surf,fig,shrink=0.3)\n",
    "\n",
    "    axs[i].add_feature(cfeature.COASTLINE)\n",
    "    axs[i].add_feature(cfeature.LAND, facecolor=[0.7,0.7,0.7])\n",
    "    set_cartopy_gridlines(ax=axs[i],crs=crs,ytick=np.arange(-90,90+10,30))\n",
    "    axs[i].title.set_text(\"WOA18 SSS on lat-lon in NH in Month {}\".format(month))\n",
    "\n"
   ]
  },
  {
   "cell_type": "code",
   "execution_count": null,
   "id": "4853c490",
   "metadata": {},
   "outputs": [],
   "source": [
    "# Check if SSS file is updated.\n",
    "\n",
    "\n",
    "f = Dataset('template.1440x1080.woa18.nc')\n",
    "lon2d_tri = f.variables['lon'][:]\n",
    "lat2d_tri = f.variables['lat'][:]\n",
    "sss2d_updated_tri = f.variables['SALT'][:]\n",
    "f.close()\n",
    "\n",
    "f = Dataset('../../test_data/flood_salt_restore_PHC2.1440x1080.v20180405.nc')\n",
    "lon2d_tri = f.variables['lon'][:]\n",
    "lat2d_tri = f.variables['lat'][:]\n",
    "sss2d_tri = f.variables['SALT'][:]\n",
    "f.close()\n",
    "\n",
    "fig, axs = plt.subplots(nrows=1,ncols=2,\n",
    "                        subplot_kw={'projection': ccrs.Robinson()},\n",
    "                        figsize=(11,8.5))\n",
    "crs = ccrs.PlateCarree()\n",
    "\n",
    "month = 7 \n",
    "for i in range(2):\n",
    "    axs[i].coastlines(linewidth=0.75, color='black', resolution='50m')\n",
    "    axs[i].gridlines(crs=crs, linestyle='-')\n",
    "    #axs[i].set_extent([-150, -30, 0, 30], crs=crs)\n",
    "    if i==0:\n",
    "        surf = axs[i].pcolormesh(lon2d_tri, lat2d_tri, sss2d_tri[month-1,:,:], vmin=32, vmax=38.5, edgecolors=None, cmap=plt.cm.jet, transform=crs)\n",
    "        title_str = \"original\"\n",
    "    elif i==1:\n",
    "        surf = axs[i].pcolormesh(lon2d_tri, lat2d_tri, sss2d_updated_tri[month-1,:,:], vmin=32, vmax=38.5, edgecolors=None, cmap=plt.cm.jet, transform=crs)\n",
    "        title_str = \"updated\"\n",
    "        \n",
    "    set_cartopy_colorbar(axs[i],surf,fig,shrink=0.3)\n",
    "\n",
    "    axs[i].add_feature(cfeature.COASTLINE)\n",
    "    axs[i].add_feature(cfeature.LAND, facecolor=[0.7,0.7,0.7])\n",
    "    set_cartopy_gridlines(ax=axs[i],crs=crs,ytick=np.arange(-90,90+10,30))\n",
    "    axs[i].title.set_text(title_str)\n",
    "\n",
    "\n"
   ]
  }
 ],
 "metadata": {
  "kernelspec": {
   "display_name": "Python 3 (ipykernel)",
   "language": "python",
   "name": "python3"
  },
  "language_info": {
   "codemirror_mode": {
    "name": "ipython",
    "version": 3
   },
   "file_extension": ".py",
   "mimetype": "text/x-python",
   "name": "python",
   "nbconvert_exporter": "python",
   "pygments_lexer": "ipython3",
   "version": "3.9.15"
  }
 },
 "nbformat": 4,
 "nbformat_minor": 5
}
