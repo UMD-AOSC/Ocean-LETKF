{
 "cells": [
  {
   "cell_type": "code",
   "execution_count": null,
   "id": "e63c2b7c",
   "metadata": {},
   "outputs": [],
   "source": [
    "# generate interpolating weights from latlon grids of WOA18 to MOM6 tripolar grids\n",
    "\n",
    "#! pwd\n",
    "#! ./gen_regridder_ostia_to_mom.py wts_ostia_to_mom_p25.nc \\\n",
    "#--target_grid_path temp_restore_template_p25.nc \\\n",
    "#--source_grid_path l4_sst_ostia_v1/2019/201901/20190101/20190101-UKMO-L4HRfnd-GLOB-v01-fv02-OSTIA.nc"
   ]
  },
  {
   "cell_type": "code",
   "execution_count": null,
   "id": "a2c3bbff",
   "metadata": {},
   "outputs": [],
   "source": [
    "# Flood & interpolate L4 daily SST to MOM tripolar grids\n",
    "! time PYTHONPATH=../../pycommon ./fill_sst_ostia_v1_daily.py \\\n",
    "        --regridder_file_path wts_ostia_to_mom_p25.nc \\\n",
    "        --wet_grid_path ../../test_data/ocean_topog.nc \\\n",
    "        --target_grid_path ../../test_data/flood_salt_restore_PHC2.1440x1080.v20180405.nc \\\n",
    "        --source_grid_path l4_sst_ostia_v1/2019/201901/20190101/20190101-UKMO-L4HRfnd-GLOB-v01-fv02-OSTIA.nc \\\n",
    "        --sst_unfilled_path l4_sst_ostia_v1/2019/201901/20190101/20190101-UKMO-L4HRfnd-GLOB-v01-fv02-OSTIA.nc \\\n",
    "        --remapped_file_path remapped_l4_sst/sst_remapped_20190101.nc"
   ]
  },
  {
   "cell_type": "code",
   "execution_count": null,
   "id": "317356bf",
   "metadata": {},
   "outputs": [],
   "source": [
    "# generate daily SST restore file in parallel\n",
    "#!bash fill_sst_batch.bsh"
   ]
  },
  {
   "cell_type": "code",
   "execution_count": null,
   "id": "2accfe00",
   "metadata": {},
   "outputs": [],
   "source": [
    "# aggregate daily SST restore file\n",
    "\n",
    "! time PYTHONPATH=../../pycommon ./aggregate_temp_restore_daily.py \\\n",
    "        --template_file_path temp_restore_template_p25.nc \\\n",
    "        --start_date 2015010112 \\\n",
    "        --end_date 2015013112 \\\n",
    "        --daily_temp_dir remapped_l4_sst \\\n",
    "        --daily_temp_file_name  sst_remapped_YYYYMMDD.nc \\\n",
    "        --output_file_name filled_remapped_cda_OSTIA_SST.nc "
   ]
  }
 ],
 "metadata": {
  "kernelspec": {
   "display_name": "Python 3 (ipykernel)",
   "language": "python",
   "name": "python3"
  },
  "language_info": {
   "codemirror_mode": {
    "name": "ipython",
    "version": 3
   },
   "file_extension": ".py",
   "mimetype": "text/x-python",
   "name": "python",
   "nbconvert_exporter": "python",
   "pygments_lexer": "ipython3",
   "version": "3.9.15"
  }
 },
 "nbformat": 4,
 "nbformat_minor": 5
}
