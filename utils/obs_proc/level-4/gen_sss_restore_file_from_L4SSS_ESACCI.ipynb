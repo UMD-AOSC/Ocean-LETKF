{
 "cells": [
  {
   "cell_type": "code",
   "execution_count": null,
   "id": "69040cfc",
   "metadata": {},
   "outputs": [],
   "source": [
    "# download ESACCI L4 SSS \n",
    "#! PYTHONPATH=../../pycommon ./get_l4_sss_esacci.py \\\n",
    "#         --start_date 20180101 --end_date 20191231 \\\n",
    "#         --log \n"
   ]
  },
  {
   "cell_type": "code",
   "execution_count": null,
   "id": "28fb4857",
   "metadata": {},
   "outputs": [],
   "source": [
    "# generate interpolating weights from latlon grids of WOA18 to MOM6 tripolar grids\n",
    "\n",
    "#! pwd\n",
    "#! ../woa/gen_regridder_woa18.py wts_woa18_to_mom_p25.nc \\\n",
    "#--target_grid_path ../../test_data/flood_salt_restore_PHC2.1440x1080.v20180405.nc \\\n",
    "#--source_grid_path ../../test_data/woa18_decav_s01_04.nc"
   ]
  },
  {
   "cell_type": "code",
   "execution_count": null,
   "id": "129d1bf8",
   "metadata": {
    "scrolled": true
   },
   "outputs": [],
   "source": [
    "# generate interpolating weights from latlon grids of L4 SSS to WOA18 grids\n",
    "\n",
    "#! pwd\n",
    "#! ./gen_regridder_esacci_to_woa18.py wts_l4sss_to_woa18.nc \\\n",
    "#--target_grid_path ../../test_data/woa18_decav_s01_04.nc \\\n",
    "#--source_grid_path l4_sss_esacci/2019/201901/20190101/ESACCI-SEASURFACESALINITY-L4-SSS-MERGED_OI_7DAY_RUNNINGMEAN_DAILY_25km-20190101-fv3.21.nc"
   ]
  },
  {
   "cell_type": "code",
   "execution_count": null,
   "id": "676991d2",
   "metadata": {},
   "outputs": [],
   "source": [
    "# generate 12-month salinity files from WOA18\n",
    "\n",
    "! PYTHONPATH=../../pycommon ../woa/fill_sss_woa18_12months.py ../../test_data/woa18 \\\n",
    "--start_month 1 --end_month 12"
   ]
  },
  {
   "cell_type": "code",
   "execution_count": null,
   "id": "9bf53486",
   "metadata": {
    "scrolled": true
   },
   "outputs": [],
   "source": [
    "# create daily merged L4&WOA SSS on WOA18 grids\n",
    "\n",
    "! time PYTHONPATH=../../pycommon ./merge_l4_woa18.py \\\n",
    "        --regridder_l4_to_woa_path wts_l4sss_to_woa18.nc \\\n",
    "        --regridder_woa_to_mom_path wts_woa18_to_mom_p25.nc \\\n",
    "        --woa_grid_path ../../test_data/woa18_decav_s01_04.nc \\\n",
    "        --l4_grid_path l4_sss_esacci/2019/201901/20190101/ESACCI-SEASURFACESALINITY-L4-SSS-MERGED_OI_7DAY_RUNNINGMEAN_DAILY_25km-20190101-fv3.21.nc \\\n",
    "        --mom_grid_path ../../test_data/flood_salt_restore_PHC2.1440x1080.v20180405.nc \\\n",
    "        --mom_lsmsk_path ../../test_data/ocean_topog.nc \\\n",
    "        --woa18_filled_path ../woa/sss_woa18_10m/filled_sss_s01_e12.nc \\\n",
    "        --l4_sss_path l4_sss_esacci/2019/201904/20190430/ESACCI-SEASURFACESALINITY-L4-SSS-MERGED_OI_7DAY_RUNNINGMEAN_DAILY_25km-20190430-fv3.21.nc \\\n",
    "        --radius 10 \\\n",
    "        --output_file_name test_l4_1day.nc"
   ]
  },
  {
   "cell_type": "code",
   "execution_count": null,
   "id": "4c5b044a",
   "metadata": {},
   "outputs": [],
   "source": [
    "# modify the script that loops over all days\n",
    "#\n",
    "\n",
    "! time PYTHONPATH=../../pycommon ./loop_sal_esacci_daily.py "
   ]
  },
  {
   "cell_type": "code",
   "execution_count": null,
   "id": "49d1fda2",
   "metadata": {},
   "outputs": [],
   "source": [
    "# merge daily sal into yearly sal restore file\n",
    "\n",
    "! time PYTHONPATH=../../pycommon ./create_sal_restore_day2year.py \\\n",
    "        --template_file_path template.1440x1080.v20180405.nc \\\n",
    "        --start_date 20190101 \\\n",
    "        --end_date 20191231 \\\n",
    "        --daily_sal_dir remapped_l4_sss \\\n",
    "        --daily_sal_file_name  sss_remapped_YYYYMMDD_radius010.nc \\\n",
    "        --output_file_name salinity_restore_woa18_L4_SSS_ESACCI_s20190101_e20191231.nc "
   ]
  },
  {
   "cell_type": "code",
   "execution_count": null,
   "id": "ffb39328",
   "metadata": {},
   "outputs": [],
   "source": [
    "import datetime as dt\n",
    "import calendar\n",
    "import os, sys\n",
    "import numpy as np\n",
    "from netCDF4 import Dataset\n",
    "\n",
    "import matplotlib.pyplot as plt\n",
    "\n",
    "import cartopy as cart\n",
    "import cartopy.feature\n",
    "from cmocean import cm as cmo\n",
    "%matplotlib inline\n",
    "\n",
    "# check the salinity field from the daily restore file\n",
    "if False:\n",
    "    \n",
    "    ds_path = 'test_l4_1day.nc'\n",
    "    f = Dataset(ds_path)\n",
    "    lon1d_woa = f.variables[\"lon1d_woa\"][:]\n",
    "    lat1d_woa = f.variables[\"lat1d_woa\"][:]\n",
    "    lon2d_mom = f.variables[\"lon2d_mom\"][:]\n",
    "    lat2d_mom = f.variables[\"lat2d_mom\"][:]\n",
    "    sss_unfilled = f.variables[\"sss_unfilled\"][:]\n",
    "    sss_filled_step1 = f.variables[\"sss_filled_step1\"][:]\n",
    "    sss_filled_step2 = f.variables[\"sss_filled_step2\"][:]\n",
    "    sss_remapped_mom = f.variables[\"sss_remapped_mom\"][:]\n",
    "    f.close()\n",
    "\n",
    "    clevs = np.linspace(32.,38.5, 21)\n",
    "    clevs2 = np.linspace(-0.5, 0.5, 21)\n",
    "\n",
    "    projPC = cart.crs.PlateCarree(central_longitude=-180)\n",
    "\n",
    "    fig = plt.figure( figsize=(16,9))\n",
    "\n",
    "    ax1 = plt.subplot(2,2,1, projection=projPC)\n",
    "    gl1 = ax1.gridlines(draw_labels=True, linewidth=2, color='gray', alpha=0.1, linestyle='--')\n",
    "    gl1.xlabels_top = False\n",
    "    ax1.set_title(\"sss_unfilled\")\n",
    "    ax1.coastlines(resolution='110m',     color='black', ls='-', alpha=1.)\n",
    "    ax1.add_feature(cartopy.feature.LAND,  edgecolor='k', facecolor=(\"lightgray\"))\n",
    "    im1=ax1.contourf(lon1d_woa, lat1d_woa, sss_unfilled, \\\n",
    "                 transform=cart.crs.PlateCarree(),\\\n",
    "                 levels=clevs, cmap=plt.cm.jet, extend=\"both\")\n",
    "    plt.colorbar(im1, shrink=0.5)\n",
    "\n",
    "\n",
    "#\n",
    "    ax2 = plt.subplot(2,2,2, projection=projPC)\n",
    "    gl2 = ax2.gridlines(draw_labels=True, linewidth=2, color='gray', alpha=0.1, linestyle='--')\n",
    "    gl2.xlabels_top = False\n",
    "    ax2.set_title(\"filled_step1\")\n",
    "    ax2.coastlines(resolution='110m',     color='black', ls='-', alpha=1.)\n",
    "    ax2.add_feature(cartopy.feature.LAND, edgecolor='k', facecolor=(\"lightgray\"))\n",
    "    im2=ax2.contourf(lon1d_woa, lat1d_woa, sss_filled_step1,  \\\n",
    "                 transform=cart.crs.PlateCarree(),\\\n",
    "                 levels=clevs, cmap=plt.cm.jet, extend=\"both\")\n",
    "    plt.colorbar(im2, shrink=0.5)\n",
    "\n",
    "\n",
    "#\n",
    "    ax3 = plt.subplot(2,2,3, projection=projPC)\n",
    "    gl3 = ax3.gridlines(draw_labels=True, linewidth=2, color='gray', alpha=0.1, linestyle='--')\n",
    "    gl3.xlabels_top = False\n",
    "    ax3.set_title(\"filled_step2\")\n",
    "    ax3.coastlines(resolution='110m',     color='black', ls='-', alpha=1.)\n",
    "    ax3.add_feature(cartopy.feature.LAND, edgecolor='k', facecolor=(\"lightgray\"))\n",
    "    im3=ax3.contourf(lon1d_woa, lat1d_woa, sss_filled_step2,   \\\n",
    "                 transform=cart.crs.PlateCarree(),\\\n",
    "                 levels=clevs, cmap=plt.cm.jet, extend=\"both\")\n",
    "    plt.colorbar(im3, shrink=0.5)\n",
    "    \n",
    "#\n",
    "    ax4 = plt.subplot(2,2,4, projection=projPC)\n",
    "    gl4 = ax4.gridlines(draw_labels=True, linewidth=2, color='gray', alpha=0.1, linestyle='--')\n",
    "    gl4.xlabels_top = False\n",
    "    ax4.set_title(\"sss_remapped_to_tripolar\")\n",
    "    ax4.coastlines(resolution='110m',     color='black', ls='-', alpha=1.)\n",
    "    ax4.add_feature(cartopy.feature.LAND, edgecolor='k', facecolor=(\"lightgray\"))\n",
    "    im4=ax4.contourf(lon2d_mom, lat2d_mom, sss_remapped_mom,   \\\n",
    "                 transform=cart.crs.PlateCarree(),\\\n",
    "                 levels=clevs, cmap=plt.cm.jet, extend=\"both\")\n",
    "    plt.colorbar(im4, shrink=0.5)    \n",
    "    "
   ]
  }
 ],
 "metadata": {
  "kernelspec": {
   "display_name": "Python 3 (ipykernel)",
   "language": "python",
   "name": "python3"
  },
  "language_info": {
   "codemirror_mode": {
    "name": "ipython",
    "version": 3
   },
   "file_extension": ".py",
   "mimetype": "text/x-python",
   "name": "python",
   "nbconvert_exporter": "python",
   "pygments_lexer": "ipython3",
   "version": "3.9.15"
  }
 },
 "nbformat": 4,
 "nbformat_minor": 5
}
