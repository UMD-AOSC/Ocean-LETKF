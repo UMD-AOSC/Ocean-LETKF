{
 "cells": [
  {
   "cell_type": "code",
   "execution_count": null,
   "id": "1e4f1e94",
   "metadata": {},
   "outputs": [],
   "source": [
    " # download ESACCI L4 SSS \n",
    "! PYTHONPATH=../../pycommon ./get_l4_sss_esacci.py \\\n",
    "         --start_date 20190101 --end_date 20190102 \\\n",
    "         --log "
   ]
  }
 ],
 "metadata": {
  "kernelspec": {
   "display_name": "Python 3 (ipykernel)",
   "language": "python",
   "name": "python3"
  },
  "language_info": {
   "codemirror_mode": {
    "name": "ipython",
    "version": 3
   },
   "file_extension": ".py",
   "mimetype": "text/x-python",
   "name": "python",
   "nbconvert_exporter": "python",
   "pygments_lexer": "ipython3",
   "version": "3.9.15"
  }
 },
 "nbformat": 4,
 "nbformat_minor": 5
}
